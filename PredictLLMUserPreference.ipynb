{
 "cells": [
  {
   "cell_type": "markdown",
   "id": "6039431e-a14f-42f6-ae9c-df2cb37e5ca0",
   "metadata": {},
   "source": [
    "<h3> This notebook walks through the process of building a machine learning model to predict which LLM-generated response a user will prefer. We will use the CRISP-DM (Cross-Industry Standard Process for Data Mining) framework, which provides a structured approach to data mining projects.\n",
    "The goal is to train a model on train.csv and make predictions on test.csv."
   ]
  },
  {
   "cell_type": "markdown",
   "id": "d16d2ccd-b0ad-4802-aac6-8b32c60cd8d2",
   "metadata": {},
   "source": [
    "<h5>Import all the necessary Python libraries for data manipulation, visualization, and machine learning."
   ]
  },
  {
   "cell_type": "code",
   "execution_count": 1,
   "id": "cdcc98b5-bc55-4e90-ac2e-52f9c15a9694",
   "metadata": {},
   "outputs": [
    {
     "name": "stderr",
     "output_type": "stream",
     "text": [
      "[nltk_data] Downloading package stopwords to\n",
      "[nltk_data]     C:\\Users\\kauch\\AppData\\Roaming\\nltk_data...\n",
      "[nltk_data]   Package stopwords is already up-to-date!\n"
     ]
    }
   ],
   "source": [
    "# For data handling and numerical operations\n",
    "import pandas as pd\n",
    "import numpy as np\n",
    "\n",
    "# For data visualization\n",
    "import matplotlib.pyplot as plt\n",
    "import seaborn as sns\n",
    "\n",
    "# --- NEW: NLTK for text preprocessing ---\n",
    "import nltk\n",
    "from nltk.corpus import stopwords\n",
    "nltk.download('stopwords') # Download the stopwords list\n",
    "\n",
    "# For building the feature engineering pipeline\n",
    "from sklearn.model_selection import train_test_split\n",
    "from sklearn.feature_extraction.text import TfidfVectorizer\n",
    "from sklearn.compose import ColumnTransformer\n",
    "from sklearn.pipeline import Pipeline\n",
    "\n",
    "# --- UPDATED: Import new models ---\n",
    "from sklearn.linear_model import LogisticRegression\n",
    "from sklearn.svm import LinearSVC\n",
    "from lightgbm import LGBMClassifier # A powerful gradient boosting model\n",
    "\n",
    "# For evaluation\n",
    "from sklearn.metrics import accuracy_score, classification_report, confusion_matrix\n",
    "\n",
    "# Set a style for all our plots\n",
    "sns.set_style('whitegrid')"
   ]
  },
  {
   "cell_type": "markdown",
   "id": "84c78c6c-2995-4217-a7d7-97b2f9ff38b4",
   "metadata": {},
   "source": [
    "<h5>Business Understanding: <br>\n",
    "The core business problem is to improve Large Language Models (LLMs) by understanding user preferences. When an LLM generates multiple responses to a prompt, we want to automatically predict which one a user would find better. A model that can do this effectively can be used for automated quality control, ranking different responses, or even helping to train better LLMs in the future. <br>\n",
    " <br>   \n",
    "Our task is to predict one of three outcomes:<br>\n",
    "1. winner_model_a: The user preferred the response from Model A.<br>\n",
    "2. winner_model_b: The user preferred the response from Model B.<br>\n",
    "3. winner_tie: The user considered both responses to be of equal quality.</h5>"
   ]
  },
  {
   "cell_type": "markdown",
   "id": "251b89ca-0aab-401d-9346-31ee874d198e",
   "metadata": {},
   "source": [
    "<h5>Step 1: Data Collection and Loading"
   ]
  },
  {
   "cell_type": "markdown",
   "id": "23723396-e307-4275-bfd2-d3872b97b2fa",
   "metadata": {},
   "source": [
    "Data Available on Kaggle - https://www.kaggle.com/competitions/llm-classification-finetuning/data"
   ]
  },
  {
   "cell_type": "code",
   "execution_count": 2,
   "id": "7b398d4f-af66-4f6d-a930-dcefbc4a6373",
   "metadata": {},
   "outputs": [
    {
     "name": "stdout",
     "output_type": "stream",
     "text": [
      "--- Training Data Head ---\n",
      "       id             model_a              model_b  \\\n",
      "0   30192  gpt-4-1106-preview           gpt-4-0613   \n",
      "1   53567           koala-13b           gpt-4-0613   \n",
      "2   65089  gpt-3.5-turbo-0613       mistral-medium   \n",
      "3   96401    llama-2-13b-chat  mistral-7b-instruct   \n",
      "4  198779           koala-13b   gpt-3.5-turbo-0314   \n",
      "\n",
      "                                              prompt  \\\n",
      "0  [\"Is it morally right to try to have a certain...   \n",
      "1  [\"What is the difference between marriage lice...   \n",
      "2  [\"explain function calling. how would you call...   \n",
      "3  [\"How can I create a test set for a very rare ...   \n",
      "4  [\"What is the best way to travel from Tel-Aviv...   \n",
      "\n",
      "                                          response_a  \\\n",
      "0  [\"The question of whether it is morally right ...   \n",
      "1  [\"A marriage license is a legal document that ...   \n",
      "2  [\"Function calling is the process of invoking ...   \n",
      "3  [\"Creating a test set for a very rare category...   \n",
      "4  [\"The best way to travel from Tel Aviv to Jeru...   \n",
      "\n",
      "                                          response_b  winner_model_a  \\\n",
      "0  [\"As an AI, I don't have personal beliefs or o...               1   \n",
      "1  [\"A marriage license and a marriage certificat...               0   \n",
      "2  [\"Function calling is the process of invoking ...               0   \n",
      "3  [\"When building a classifier for a very rare c...               1   \n",
      "4  [\"The best way to travel from Tel-Aviv to Jeru...               0   \n",
      "\n",
      "   winner_model_b  winner_tie  \n",
      "0               0           0  \n",
      "1               1           0  \n",
      "2               0           1  \n",
      "3               0           0  \n",
      "4               1           0  \n",
      "\n",
      "--- Training Data Info ---\n",
      "<class 'pandas.core.frame.DataFrame'>\n",
      "RangeIndex: 57477 entries, 0 to 57476\n",
      "Data columns (total 9 columns):\n",
      " #   Column          Non-Null Count  Dtype \n",
      "---  ------          --------------  ----- \n",
      " 0   id              57477 non-null  int64 \n",
      " 1   model_a         57477 non-null  object\n",
      " 2   model_b         57477 non-null  object\n",
      " 3   prompt          57477 non-null  object\n",
      " 4   response_a      57477 non-null  object\n",
      " 5   response_b      57477 non-null  object\n",
      " 6   winner_model_a  57477 non-null  int64 \n",
      " 7   winner_model_b  57477 non-null  int64 \n",
      " 8   winner_tie      57477 non-null  int64 \n",
      "dtypes: int64(4), object(5)\n",
      "memory usage: 3.9+ MB\n",
      "\n",
      "--- Target Variable Distribution ---\n",
      "winner_model_a    20064\n",
      "winner_model_b    19652\n",
      "winner_tie        17761\n",
      "dtype: int64\n"
     ]
    },
    {
     "name": "stderr",
     "output_type": "stream",
     "text": [
      "C:\\Users\\kauch\\AppData\\Local\\Temp\\ipykernel_20676\\2919271927.py:27: FutureWarning: \n",
      "\n",
      "Passing `palette` without assigning `hue` is deprecated and will be removed in v0.14.0. Assign the `x` variable to `hue` and set `legend=False` for the same effect.\n",
      "\n",
      "  sns.barplot(x=target_distribution.index, y=target_distribution.values, palette='viridis')\n"
     ]
    },
    {
     "data": {
      "image/png": "[encoded data removed]",
      "text/plain": [
       "<Figure size 800x600 with 1 Axes>"
      ]
     },
     "metadata": {},
     "output_type": "display_data"
    }
   ],
   "source": [
    "# Load the training and testing datasets from their paths\n",
    "try:\n",
    "    train_df = pd.read_csv(\"data/train.csv\")\n",
    "    test_df = pd.read_csv(\"data/test.csv\")\n",
    "except FileNotFoundError:\n",
    "    print(\"Dataset files not found. Make sure you are running this in a Kaggle environment.\")\n",
    "    # Create empty dataframes to prevent the rest of the code from crashing\n",
    "    train_df = pd.DataFrame()\n",
    "    test_df = pd.DataFrame()\n",
    "\n",
    "if not train_df.empty:\n",
    "    # Display the first 5 rows of the training data\n",
    "    print(\"--- Training Data Head ---\")\n",
    "    print(train_df.head())\n",
    "    \n",
    "    # Display a concise summary of the dataframe, including non-null counts and data types\n",
    "    print(\"\\n--- Training Data Info ---\")\n",
    "    train_df.info()\n",
    "\n",
    "    # Check the distribution of the winner columns\n",
    "    print(\"\\n--- Target Variable Distribution ---\")\n",
    "    target_distribution = train_df[['winner_model_a', 'winner_model_b', 'winner_tie']].sum()\n",
    "    print(target_distribution)\n",
    "    \n",
    "    # Visualize the distribution of the winners\n",
    "    plt.figure(figsize=(8, 6))\n",
    "    sns.barplot(x=target_distribution.index, y=target_distribution.values, palette='viridis')\n",
    "    plt.title('Distribution of Winner Outcomes')\n",
    "    plt.ylabel('Number of Instances')\n",
    "    plt.xlabel('Winner')\n",
    "    plt.show()"
   ]
  },
  {
   "cell_type": "markdown",
   "id": "1c8e3a97-bc72-4a13-8bd5-933217c02038",
   "metadata": {},
   "source": [
    "The three target variables show that there is good distribution of data."
   ]
  },
  {
   "cell_type": "markdown",
   "id": "4b6cd042-6aa9-47c7-b5a4-3b7dc0d5082c",
   "metadata": {},
   "source": [
    "<h5> Step 2: Data Preparation <br>\n",
    "<br>\n",
    "1. Create new numerical features: add the character length of each response and, crucially, the difference in length between them. This difference can be a very strong signal of user preference.<br>\n",
    "2. Prepare a single target column .<br>\n",
    "3. Split the data into training and validation sets."
   ]
  },
  {
   "cell_type": "code",
   "execution_count": 3,
   "id": "c79c44da-7c76-4c2b-9dc9-d220596cf4ca",
   "metadata": {},
   "outputs": [
    {
     "name": "stdout",
     "output_type": "stream",
     "text": [
      "--- Sample of Data with New Features ---\n",
      "   prompt_len  response_a_len  response_b_len  len_diff  winner\n",
      "0         165            4538            1206      3332       0\n",
      "1         200            3114            3649      -535       1\n",
      "2          60             921            1835      -914       2\n",
      "3          87            3182            1562      1620       0\n",
      "4          79            1300             772       528       1\n",
      "\n",
      "Training set size: 40233\n",
      "Validation set size: 17244\n"
     ]
    }
   ],
   "source": [
    "if not train_df.empty:\n",
    "    # 1. Create a single, simplified target column 'winner'\n",
    "    def get_winner(row):\n",
    "        if row['winner_model_a'] == 1:\n",
    "            return 0 # Model A\n",
    "        elif row['winner_model_b'] == 1:\n",
    "            return 1 # Model B\n",
    "        else:\n",
    "            return 2 # Tie\n",
    "\n",
    "    train_df['winner'] = train_df.apply(get_winner, axis=1)\n",
    "\n",
    "    # --- Create additional numerical features ---\n",
    "    # These features can provide powerful signals to the model.\n",
    "    for df in [train_df, test_df]:\n",
    "        df['prompt_len'] = df['prompt'].str.len()\n",
    "        df['response_a_len'] = df['response_a'].str.len()\n",
    "        df['response_b_len'] = df['response_b'].str.len()\n",
    "        # The difference in length can be a very strong predictor\n",
    "        df['len_diff'] = df['response_a_len'] - df['response_b_len']\n",
    "\n",
    "    print(\"--- Sample of Data with New Features ---\")\n",
    "    print(train_df[['prompt_len', 'response_a_len', 'response_b_len', 'len_diff', 'winner']].head())\n",
    "    \n",
    "    # Define our features (X) and target (y)\n",
    "    # Note: We now use a list of column names for our features\n",
    "    feature_cols = ['prompt', 'response_a', 'response_b', 'prompt_len', 'response_a_len', 'response_b_len', 'len_diff']\n",
    "    X = train_df[feature_cols]\n",
    "    y = train_df['winner']\n",
    "\n",
    "    # 3. Split the data into training and validation sets\n",
    "    X_train, X_val, y_train, y_val = train_test_split(X, y, test_size=0.3, random_state=42, stratify=y)\n",
    "\n",
    "    print(f\"\\nTraining set size: {X_train.shape[0]}\")\n",
    "    print(f\"Validation set size: {X_val.shape[0]}\")"
   ]
  },
  {
   "cell_type": "markdown",
   "id": "f5720dcb-3fcb-40b5-9ab1-a487409d0a9b",
   "metadata": {},
   "source": [
    "<h5> Step 3: Data Modeling<br>\n",
    "    <br>\n",
    "1. Preprocessing Enhancements: Vectorizer to remove stopwords and look at two-word phrases (n-grams), which helps capture more context.<br>\n",
    "2. Column Transformer: We will use a ColumnTransformer to apply different preprocessing steps to different columns.<br>\n",
    "3. Models: We will evaluate LogisticRegression, LinearSVC, and LightGBM."
   ]
  },
  {
   "cell_type": "code",
   "execution_count": 4,
   "id": "c7ba088d-617f-4d27-819f-a9697dad745a",
   "metadata": {},
   "outputs": [
    {
     "name": "stdout",
     "output_type": "stream",
     "text": [
      "--- Training Logistic Regression ---\n"
     ]
    },
    {
     "name": "stderr",
     "output_type": "stream",
     "text": [
      "C:\\Users\\kauch\\anaconda3\\Lib\\site-packages\\sklearn\\linear_model\\_logistic.py:465: ConvergenceWarning: lbfgs failed to converge (status=1):\n",
      "STOP: TOTAL NO. of ITERATIONS REACHED LIMIT.\n",
      "\n",
      "Increase the number of iterations (max_iter) or scale the data as shown in:\n",
      "    https://scikit-learn.org/stable/modules/preprocessing.html\n",
      "Please also refer to the documentation for alternative solver options:\n",
      "    https://scikit-learn.org/stable/modules/linear_model.html#logistic-regression\n",
      "  n_iter_i = _check_optimize_result(\n"
     ]
    },
    {
     "name": "stdout",
     "output_type": "stream",
     "text": [
      "--- Evaluating Logistic Regression ---\n",
      "Validation Accuracy: 0.4378\n",
      "\n",
      "              precision    recall  f1-score   support\n",
      "\n",
      "Model A Wins       0.46      0.48      0.47      6019\n",
      "Model B Wins       0.45      0.50      0.47      5896\n",
      "         Tie       0.40      0.33      0.36      5329\n",
      "\n",
      "    accuracy                           0.44     17244\n",
      "   macro avg       0.43      0.43      0.43     17244\n",
      "weighted avg       0.43      0.44      0.43     17244\n",
      "\n",
      "--- Training Linear SVC ---\n"
     ]
    },
    {
     "name": "stderr",
     "output_type": "stream",
     "text": [
      "C:\\Users\\kauch\\anaconda3\\Lib\\site-packages\\sklearn\\svm\\_base.py:1249: ConvergenceWarning: Liblinear failed to converge, increase the number of iterations.\n",
      "  warnings.warn(\n"
     ]
    },
    {
     "name": "stdout",
     "output_type": "stream",
     "text": [
      "--- Evaluating Linear SVC ---\n",
      "Validation Accuracy: 0.3377\n",
      "\n",
      "              precision    recall  f1-score   support\n",
      "\n",
      "Model A Wins       0.34      0.62      0.44      6019\n",
      "Model B Wins       0.29      0.16      0.20      5896\n",
      "         Tie       0.39      0.22      0.28      5329\n",
      "\n",
      "    accuracy                           0.34     17244\n",
      "   macro avg       0.34      0.33      0.31     17244\n",
      "weighted avg       0.34      0.34      0.31     17244\n",
      "\n",
      "--- Training LightGBM ---\n",
      "--- Evaluating LightGBM ---\n",
      "Validation Accuracy: 0.4678\n",
      "\n",
      "              precision    recall  f1-score   support\n",
      "\n",
      "Model A Wins       0.48      0.53      0.50      6019\n",
      "Model B Wins       0.48      0.51      0.49      5896\n",
      "         Tie       0.44      0.35      0.39      5329\n",
      "\n",
      "    accuracy                           0.47     17244\n",
      "   macro avg       0.46      0.46      0.46     17244\n",
      "weighted avg       0.47      0.47      0.46     17244\n",
      "\n"
     ]
    },
    {
     "name": "stderr",
     "output_type": "stream",
     "text": [
      "C:\\Users\\kauch\\anaconda3\\Lib\\site-packages\\sklearn\\utils\\validation.py:2739: UserWarning: X does not have valid feature names, but LGBMClassifier was fitted with feature names\n",
      "  warnings.warn(\n"
     ]
    }
   ],
   "source": [
    "if not train_df.empty:\n",
    "    # --- NEW: Define English stopwords ---\n",
    "    stop_words = list(stopwords.words('english'))\n",
    "\n",
    "    # --- NEW: Create a ColumnTransformer to handle mixed data types ---\n",
    "    # This preprocessor will apply TfidfVectorizer to each text column\n",
    "    # and pass the numerical columns through unchanged.\n",
    "    preprocessor = ColumnTransformer(\n",
    "        transformers=[\n",
    "            ('prompt_tfidf', TfidfVectorizer(stop_words=stop_words, ngram_range=(1, 2), max_features=2000), 'prompt'),\n",
    "            ('response_a_tfidf', TfidfVectorizer(stop_words=stop_words, ngram_range=(1, 2), max_features=3000), 'response_a'),\n",
    "            ('response_b_tfidf', TfidfVectorizer(stop_words=stop_words, ngram_range=(1, 2), max_features=3000), 'response_b'),\n",
    "        ],\n",
    "        remainder='passthrough' # Keep our numerical columns (prompt_len, etc.)\n",
    "    )\n",
    "\n",
    "    # --- UPDATED: Define our models for comparison ---\n",
    "    models = {\n",
    "        \"Logistic Regression\": LogisticRegression(random_state=42, max_iter=1000),\n",
    "        \"Linear SVC\": LinearSVC(random_state=42, dual=True, max_iter=1000), # dual=True can be faster\n",
    "        \"LightGBM\": LGBMClassifier(random_state=42, verbose=-1)\n",
    "    }\n",
    "\n",
    "    # Train and evaluate each model using a Pipeline\n",
    "    for name, model in models.items():\n",
    "        # Create the full pipeline\n",
    "        pipeline = Pipeline(steps=[('preprocessor', preprocessor),\n",
    "                                   ('classifier', model)])\n",
    "        \n",
    "        print(f\"--- Training {name} ---\")\n",
    "        pipeline.fit(X_train, y_train)\n",
    "        \n",
    "        print(f\"--- Evaluating {name} ---\")\n",
    "        y_pred = pipeline.predict(X_val)\n",
    "        \n",
    "        # Store the trained pipeline for later use\n",
    "        models[name] = pipeline \n",
    "        \n",
    "        # --- Evaluation metrics will be printed in the next step ---\n",
    "        accuracy = accuracy_score(y_val, y_pred)\n",
    "        print(f\"Validation Accuracy: {accuracy:.4f}\\n\")\n",
    "        print(classification_report(y_val, y_pred, target_names=['Model A Wins', 'Model B Wins', 'Tie']))"
   ]
  },
  {
   "cell_type": "markdown",
   "id": "2ff7834f-55b1-42f3-b112-4b23aedfc8ef",
   "metadata": {},
   "source": [
    "<h5> Step 4: Evaluation<br>\n",
    "<br>\n",
    "With the model trained, evaluate how it performs on data it has never seen before (validation set). Check accuracy and look at a more detailed report to understand its strengths and weaknesses."
   ]
  },
  {
   "cell_type": "code",
   "execution_count": 5,
   "id": "c0f25ae8-c7c8-4e35-ae18-c518e348458a",
   "metadata": {},
   "outputs": [
    {
     "name": "stdout",
     "output_type": "stream",
     "text": [
      "--- Detailed Evaluation for Best Model: Linear SVC ---\n"
     ]
    },
    {
     "data": {
      "image/png": "[encoded data removed]",
      "text/plain": [
       "<Figure size 800x600 with 2 Axes>"
      ]
     },
     "metadata": {},
     "output_type": "display_data"
    }
   ],
   "source": [
    "# --- Let's choose the best model for a detailed look at its confusion matrix ---\n",
    "best_model_name = \"Linear SVC\"\n",
    "best_pipeline = models[best_model_name]\n",
    "\n",
    "print(f\"--- Detailed Evaluation for Best Model: {best_model_name} ---\")\n",
    "\n",
    "# Regenerate predictions for the best model to create the confusion matrix\n",
    "y_pred_best = best_pipeline.predict(X_val)\n",
    "\n",
    "# Visualize the results with a Confusion Matrix\n",
    "cm = confusion_matrix(y_val, y_pred_best)\n",
    "plt.figure(figsize=(8, 6))\n",
    "class_names = ['Model A Wins', 'Model B Wins', 'Tie']\n",
    "sns.heatmap(cm, annot=True, fmt='d', cmap='Blues', \n",
    "            xticklabels=class_names, yticklabels=class_names)\n",
    "plt.title(f'Confusion Matrix for {best_model_name}')\n",
    "plt.ylabel('Actual Outcome')\n",
    "plt.xlabel('Predicted Outcome')\n",
    "plt.show()"
   ]
  },
  {
   "cell_type": "code",
   "execution_count": null,
   "id": "46a768e6-f7af-4cea-ae36-2b4a18deb622",
   "metadata": {},
   "outputs": [],
   "source": []
  },
  {
   "cell_type": "code",
   "execution_count": null,
   "id": "68417835-9204-495a-9181-abba328ae104",
   "metadata": {},
   "outputs": [],
   "source": []
  }
 ],
 "metadata": {
  "kernelspec": {
   "display_name": "Python [conda env:base] *",
   "language": "python",
   "name": "conda-base-py"
  },
  "language_info": {
   "codemirror_mode": {
    "name": "ipython",
    "version": 3
   },
   "file_extension": ".py",
   "mimetype": "text/x-python",
   "name": "python",
   "nbconvert_exporter": "python",
   "pygments_lexer": "ipython3",
   "version": "3.12.3"
  }
 },
 "nbformat": 4,
 "nbformat_minor": 5
}
